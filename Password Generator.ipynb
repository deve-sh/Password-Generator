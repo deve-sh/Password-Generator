{
 "cells": [
  {
   "cell_type": "markdown",
   "metadata": {},
   "source": [
    "# <div align='center'>Random Password Generator</div>"
   ]
  },
  {
   "cell_type": "code",
   "execution_count": null,
   "metadata": {
    "scrolled": false
   },
   "outputs": [],
   "source": [
    "# Module for generating Random Numbers\n",
    "\n",
    "import random\n",
    "\n",
    "# Character Array\n",
    "\n",
    "chararr = ['a', 'b', 'c', 'd', 'e', 'f', 'g', 'h', 'i', 'j', 'k', 'l', 'm', 'n', 'o', 'p', 'q', 'r', 's', 't', 'u', 'v', 'w', 'x', 'y', 'z', 'A', 'B', 'C', 'D', 'E', 'F', 'G', 'H', 'I', 'J', 'K', 'L', 'M', 'N', 'O', 'P', 'Q', 'R', 'S', 'T', 'U', 'V', 'W', 'X', 'Y', 'Z', '/', '@', '#', '^', '&', '*', '(', ')', '=', '+', '~', '?', '.', ']', '[', '}', '{', '|', '-', '_', ',', ':', '!','1','2','3','4','5','6','7','8','9','0']\n",
    "\n",
    "# Password Variables\n",
    "\n",
    "n = int(input(\"\\nEnter the number of passwords : \"))\n",
    "leng = int(input(\"\\nEnter the length of each password : \"))\n",
    "\n",
    "print(\"\\n\")\n",
    "\n",
    "# Function to generate n random passwords\n",
    "\n",
    "def randompass(number,length):\n",
    "    for i in range(0,number):\n",
    "        password=\"\"\n",
    "        for counter in range (0,length):\n",
    "            randomnum = random.randint(-1,len(chararr)-1) # Random number to use as an index\n",
    "            password += str(chararr[randomnum])\n",
    "        print password\n",
    "\n",
    "randompass(n,leng)"
   ]
  }
 ],
 "metadata": {
  "kernelspec": {
   "display_name": "Python 2",
   "language": "python",
   "name": "python2"
  },
  "language_info": {
   "codemirror_mode": {
    "name": "ipython",
    "version": 2
   },
   "file_extension": ".py",
   "mimetype": "text/x-python",
   "name": "python",
   "nbconvert_exporter": "python",
   "pygments_lexer": "ipython2",
   "version": "2.7.14"
  }
 },
 "nbformat": 4,
 "nbformat_minor": 2
}
